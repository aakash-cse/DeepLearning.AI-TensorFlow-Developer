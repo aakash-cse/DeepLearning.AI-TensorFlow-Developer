{
 "cells": [
  {
   "cell_type": "markdown",
   "metadata": {
    "colab_type": "text",
    "id": "iQjHqsmTAVLU"
   },
   "source": [
    "## Exercise 3\n",
    "In the videos you looked at how you would improve Fashion MNIST using Convolutions. For your exercise see if you can improve MNIST to 99.8% accuracy or more using only a single convolutional layer and a single MaxPooling 2D. You should stop training once the accuracy goes above this amount. It should happen in less than 20 epochs, so it's ok to hard code the number of epochs for training, but your training must end once it hits the above metric. If it doesn't, then you'll need to redesign your layers.\n",
    "\n",
    "I've started the code for you -- you need to finish it!\n",
    "\n",
    "When 99.8% accuracy has been hit, you should print out the string \"Reached 99.8% accuracy so cancelling training!\"\n"
   ]
  },
  {
   "cell_type": "code",
   "execution_count": 1,
   "metadata": {},
   "outputs": [],
   "source": [
    "import tensorflow as tf\n",
    "from os import path, getcwd, chdir\n",
    "import numpy as np\n",
    "\n",
    "# DO NOT CHANGE THE LINE BELOW. If you are developing in a local\n",
    "# environment, then grab mnist.npz from the Coursera Jupyter Notebook\n",
    "# and place it inside a local folder and edit the path to that location\n",
    "path = f\"{getcwd()}/../tmp2/mnist.npz\""
   ]
  },
  {
   "cell_type": "code",
   "execution_count": 2,
   "metadata": {},
   "outputs": [],
   "source": [
    "config = tf.ConfigProto()\n",
    "config.gpu_options.allow_growth = True\n",
    "sess = tf.Session(config=config)"
   ]
  },
  {
   "cell_type": "code",
   "execution_count": 7,
   "metadata": {},
   "outputs": [],
   "source": [
    "# GRADED FUNCTION: train_mnist_conv\n",
    "\n",
    "import tensorflow as tf\n",
    "\n",
    "class CustomCallbacks(tf.keras.callbacks.Callback):\n",
    "    def on_epoch_end(self, epoch, logs={}):\n",
    "        if(logs.get('acc')>0.998):\n",
    "            print(\"\\n 99% acc reached\")\n",
    "            self.model.stop_training = True\n",
    "\n",
    "\n",
    "def preprocess_images(image_set):\n",
    "    image_set = image_set.reshape(-1, 28, 28, 1)\n",
    "    image_set = image_set / 255.0\n",
    "    return image_set\n",
    "\n",
    "def train_mnist_conv():\n",
    "    # Please write your code only where you are indicated.\n",
    "    # please do not remove model fitting inline comments.\n",
    "\n",
    "    # YOUR CODE STARTS HERE\n",
    "    \n",
    "    # YOUR CODE ENDS HERE\n",
    "\n",
    "    mnist = tf.keras.datasets.mnist\n",
    "    (training_images, training_labels), (test_images, test_labels) = mnist.load_data(path=path)\n",
    "    # YOUR CODE STARTS HERE\n",
    "    \n",
    "    training_images = preprocess_images(training_images)\n",
    "    test_images = preprocess_images(test_images)   \n",
    "\n",
    "    # YOUR CODE ENDS HERE\n",
    "\n",
    "    model = tf.keras.models.Sequential([\n",
    "        \n",
    "            # YOUR CODE STARTS HERE\n",
    "        tf.keras.layers.Conv2D(64,(3,3),activation='relu',input_shape=(28,28,1)),\n",
    "        tf.keras.layers.MaxPooling2D(2,2),\n",
    "        tf.keras.layers.Conv2D(64,(3,3),activation='relu'),\n",
    "        tf.keras.layers.MaxPooling2D(2,2),\n",
    "        tf.keras.layers.Flatten(),\n",
    "        tf.keras.layers.Dense(128,activation='relu'),\n",
    "        tf.keras.layers.Dense(10,activation='softmax')\n",
    "\n",
    "            # YOUR CODE ENDS HERE\n",
    "    ])\n",
    "\n",
    "    model.compile(optimizer='adam', loss='sparse_categorical_crossentropy', metrics=['accuracy'])\n",
    "    # model fitting    \n",
    "    history = model.fit(\n",
    "        # YOUR CODE STARTS HERE\n",
    "        training_images,training_labels,epochs=15,batch_size=64,\n",
    "        validation_data = (test_images,test_labels),callbacks=[CustomCallbacks()]\n",
    "\n",
    "        # YOUR CODE ENDS HERE\n",
    "    )\n",
    "    # model fitting\n",
    "    return history.epoch, history.history['acc'][-1]\n",
    "\n"
   ]
  },
  {
   "cell_type": "code",
   "execution_count": 8,
   "metadata": {},
   "outputs": [
    {
     "name": "stdout",
     "output_type": "stream",
     "text": [
      "Train on 60000 samples, validate on 10000 samples\n",
      "Epoch 1/15\n",
      "60000/60000 [==============================] - 11s 189us/sample - loss: 0.1517 - acc: 0.9537 - val_loss: 0.0509 - val_acc: 0.9835\n",
      "Epoch 2/15\n",
      "60000/60000 [==============================] - 11s 184us/sample - loss: 0.0449 - acc: 0.9858 - val_loss: 0.0310 - val_acc: 0.9897\n",
      "Epoch 3/15\n",
      "60000/60000 [==============================] - 11s 188us/sample - loss: 0.0308 - acc: 0.9903 - val_loss: 0.0271 - val_acc: 0.9912\n",
      "Epoch 4/15\n",
      "60000/60000 [==============================] - 11s 177us/sample - loss: 0.0221 - acc: 0.9931 - val_loss: 0.0282 - val_acc: 0.9909\n",
      "Epoch 5/15\n",
      "60000/60000 [==============================] - 10s 165us/sample - loss: 0.0172 - acc: 0.9946 - val_loss: 0.0265 - val_acc: 0.9912\n",
      "Epoch 6/15\n",
      "60000/60000 [==============================] - 10s 158us/sample - loss: 0.0127 - acc: 0.9958 - val_loss: 0.0259 - val_acc: 0.9921\n",
      "Epoch 7/15\n",
      "60000/60000 [==============================] - 10s 166us/sample - loss: 0.0111 - acc: 0.9963 - val_loss: 0.0224 - val_acc: 0.9932\n",
      "Epoch 8/15\n",
      "60000/60000 [==============================] - 10s 163us/sample - loss: 0.0093 - acc: 0.9968 - val_loss: 0.0301 - val_acc: 0.9915\n",
      "Epoch 9/15\n",
      "60000/60000 [==============================] - 10s 172us/sample - loss: 0.0069 - acc: 0.9977 - val_loss: 0.0330 - val_acc: 0.9907\n",
      "Epoch 10/15\n",
      "60000/60000 [==============================] - 10s 171us/sample - loss: 0.0071 - acc: 0.9975 - val_loss: 0.0291 - val_acc: 0.9922\n",
      "Epoch 11/15\n",
      "60000/60000 [==============================] - 10s 175us/sample - loss: 0.0065 - acc: 0.9978 - val_loss: 0.0282 - val_acc: 0.9917\n",
      "Epoch 12/15\n",
      "59840/60000 [============================>.] - ETA: 0s - loss: 0.0038 - acc: 0.9989\n",
      " 99% acc reached\n",
      "60000/60000 [==============================] - 11s 177us/sample - loss: 0.0038 - acc: 0.9989 - val_loss: 0.0413 - val_acc: 0.9893\n"
     ]
    }
   ],
   "source": [
    "_, _ = train_mnist_conv()"
   ]
  },
  {
   "cell_type": "code",
   "execution_count": null,
   "metadata": {},
   "outputs": [],
   "source": [
    "# Now click the 'Submit Assignment' button above.\n",
    "# Once that is complete, please run the following two cells to save your work and close the notebook"
   ]
  },
  {
   "cell_type": "code",
   "execution_count": null,
   "metadata": {},
   "outputs": [],
   "source": [
    "%%javascript\n",
    "<!-- Save the notebook -->\n",
    "IPython.notebook.save_checkpoint();"
   ]
  },
  {
   "cell_type": "code",
   "execution_count": null,
   "metadata": {},
   "outputs": [],
   "source": [
    "%%javascript\n",
    "IPython.notebook.session.delete();\n",
    "window.onbeforeunload = null\n",
    "setTimeout(function() { window.close(); }, 1000);"
   ]
  }
 ],
 "metadata": {
  "coursera": {
   "course_slug": "introduction-tensorflow",
   "graded_item_id": "ml06H",
   "launcher_item_id": "hQF8A"
  },
  "kernelspec": {
   "display_name": "Python 3",
   "language": "python",
   "name": "python3"
  },
  "language_info": {
   "codemirror_mode": {
    "name": "ipython",
    "version": 3
   },
   "file_extension": ".py",
   "mimetype": "text/x-python",
   "name": "python",
   "nbconvert_exporter": "python",
   "pygments_lexer": "ipython3",
   "version": "3.6.8"
  }
 },
 "nbformat": 4,
 "nbformat_minor": 1
}
